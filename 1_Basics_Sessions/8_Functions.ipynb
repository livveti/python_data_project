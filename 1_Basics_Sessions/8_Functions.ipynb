{
  "nbformat": 4,
  "nbformat_minor": 0,
  "metadata": {
    "colab": {
      "provenance": []
    },
    "kernelspec": {
      "name": "python3",
      "display_name": "Python 3"
    },
    "language_info": {
      "name": "python"
    }
  },
  "cells": [
    {
      "cell_type": "code",
      "execution_count": null,
      "metadata": {
        "id": "1IlXYmgJh41O"
      },
      "outputs": [],
      "source": [
        "job_title = 'Data Scientist'\n",
        "keyword = 'Data'"
      ]
    },
    {
      "cell_type": "code",
      "source": [
        "def job_title_contains(job_title, keyword):\n",
        "  if keyword in job_title:\n",
        "    return True\n",
        "  else: False"
      ],
      "metadata": {
        "id": "-ht_9RbEl_SZ"
      },
      "execution_count": null,
      "outputs": []
    },
    {
      "cell_type": "code",
      "source": [
        "job_title_contains(job_title_1, check_keyword_1)"
      ],
      "metadata": {
        "colab": {
          "base_uri": "https://localhost:8080/"
        },
        "id": "boH4aoYanNCZ",
        "outputId": "0a77e164-f91b-4d10-d3de-4a5693cd55a0"
      },
      "execution_count": null,
      "outputs": [
        {
          "output_type": "execute_result",
          "data": {
            "text/plain": [
              "True"
            ]
          },
          "metadata": {},
          "execution_count": 22
        }
      ]
    },
    {
      "cell_type": "code",
      "source": [
        "def job_title_contains(job_title, check_keyword):\n",
        "    return keyword in job_title\n",
        "job_title_contains(job_title, keyword)"
      ],
      "metadata": {
        "colab": {
          "base_uri": "https://localhost:8080/"
        },
        "id": "BKuZEj4DnwTh",
        "outputId": "76dcf261-9189-43f5-f0f8-98d0847febe7"
      },
      "execution_count": null,
      "outputs": [
        {
          "output_type": "execute_result",
          "data": {
            "text/plain": [
              "True"
            ]
          },
          "metadata": {},
          "execution_count": 21
        }
      ]
    },
    {
      "cell_type": "code",
      "source": [
        "def avg_salary():\n",
        "  avg_salary =  sum(average_salary) / len(average_salary)\n",
        "  return avg_salary\n",
        "\n",
        "average_salary = [95000, 120000, 105000, 90000, 130000]\n",
        "avg_salary()"
      ],
      "metadata": {
        "colab": {
          "base_uri": "https://localhost:8080/"
        },
        "id": "TZsjLX2moda_",
        "outputId": "692d4e2b-8d08-4e24-dd87-c998c4ec4e54"
      },
      "execution_count": null,
      "outputs": [
        {
          "output_type": "execute_result",
          "data": {
            "text/plain": [
              "108000.0"
            ]
          },
          "metadata": {},
          "execution_count": 37
        }
      ]
    },
    {
      "cell_type": "code",
      "source": [
        "def salary_stats():\n",
        "  return {\n",
        "  'min_salary': min(average_salary),\n",
        "  'max_salary': max(average_salary),\n",
        "  'avg_salary': sum(average_salary) / len(average_salary)\n",
        "  }\n",
        "\n",
        "average_salary = [95000, 120000, 105000, 90000, 130000]\n",
        "salary_stats()"
      ],
      "metadata": {
        "colab": {
          "base_uri": "https://localhost:8080/"
        },
        "id": "bXEA5Me5pecs",
        "outputId": "9ff78575-a41b-4206-a09a-2125c3c072ff"
      },
      "execution_count": null,
      "outputs": [
        {
          "output_type": "execute_result",
          "data": {
            "text/plain": [
              "{'min_salary': 90000, 'max_salary': 130000, 'avg_salary': 108000.0}"
            ]
          },
          "metadata": {},
          "execution_count": 43
        }
      ]
    },
    {
      "cell_type": "code",
      "source": [
        "def salary_stats():\n",
        "  return {\n",
        "  'min_salary': min(average_salary),\n",
        "  'max_salary': max(average_salary),\n",
        "  'avg_salary': sum(average_salary) / len(average_salary)\n",
        "  }\n",
        "\n",
        "average_salary = [95000, 120000, 105000, 90000, 130000]\n",
        "salary_stats()"
      ],
      "metadata": {
        "colab": {
          "base_uri": "https://localhost:8080/"
        },
        "id": "hfMZADXssPjp",
        "outputId": "2fdc7034-3939-4fbf-ac16-f3b66db4c5a8"
      },
      "execution_count": null,
      "outputs": [
        {
          "output_type": "execute_result",
          "data": {
            "text/plain": [
              "function"
            ]
          },
          "metadata": {},
          "execution_count": 41
        }
      ]
    },
    {
      "cell_type": "code",
      "source": [
        "def job_posting_summary(job_postings):\n",
        "  posting_count = len(job_postings)\n",
        "  total_salary = sum(posting['salary'] for posting in job_postings)\n",
        "  avg_salary = total_salary / posting_count\n",
        "  unique_location = list(set(posting['location'] for posting in job_postings))\n",
        "  return {\n",
        "      'Posting Count': posting_count,\n",
        "      'Average Salary': avg_salary,\n",
        "      'Location': unique_location\n",
        "  }\n",
        "\n",
        "#returns a summary dictionary with\n",
        "# 1. the total number of postings\n",
        "# 2. the average salary\n",
        "# 3. and a list of unique locations\n",
        "\n",
        "job_postings = [\n",
        "    {'title': 'Data Scientist', 'location': 'New York', 'salary': 95000},\n",
        "    {'title': 'Data Analyst', 'location': 'San Francisco', 'salary': 85000},\n",
        "    {'title': 'Machine Learning Engineer', 'location': 'New York', 'salary': 115000}\n",
        "]\n",
        "job_posting_summary(job_postings)"
      ],
      "metadata": {
        "colab": {
          "base_uri": "https://localhost:8080/"
        },
        "id": "cHNDfdCUtqSA",
        "outputId": "5743b80f-eebf-4d76-8836-61fdeb91c1cd"
      },
      "execution_count": null,
      "outputs": [
        {
          "output_type": "execute_result",
          "data": {
            "text/plain": [
              "{'Posting Count': 3,\n",
              " 'Average Salary': 98333.33333333333,\n",
              " 'Location': ['New York', 'San Francisco']}"
            ]
          },
          "metadata": {},
          "execution_count": 72
        }
      ]
    },
    {
      "cell_type": "code",
      "source": [
        "def job_posting_summary(job_postings):\n",
        "    total_postings = len(job_postings)\n",
        "    total_salary = sum(posting['salary'] for posting in job_postings)\n",
        "    average_salary = total_salary / total_postings\n",
        "    unique_locations = list(set(posting['location'] for posting in job_postings))\n",
        "    return {\n",
        "        'total_postings': total_postings,\n",
        "        'average_salary': average_salary,\n",
        "        'unique_locations': unique_locations\n",
        "    }\n",
        "\n",
        "job_postings = [\n",
        "    {'title': 'Data Scientist', 'location': 'New York', 'salary': 95000},\n",
        "    {'title': 'Data Analyst', 'location': 'San Francisco', 'salary': 85000},\n",
        "    {'title': 'Machine Learning Engineer', 'location': 'New York', 'salary': 115000}\n",
        "]\n",
        "job_posting_summary(job_postings)"
      ],
      "metadata": {
        "colab": {
          "base_uri": "https://localhost:8080/"
        },
        "id": "VRoC6VUEuaAp",
        "outputId": "35221a9f-fb4a-4d1b-99ce-512af7433d1a"
      },
      "execution_count": null,
      "outputs": [
        {
          "output_type": "execute_result",
          "data": {
            "text/plain": [
              "{'total_postings': 3,\n",
              " 'average_salary': 98333.33333333333,\n",
              " 'unique_locations': ['New York', 'San Francisco']}"
            ]
          },
          "metadata": {},
          "execution_count": 69
        }
      ]
    },
    {
      "cell_type": "code",
      "source": [
        "def student_data_summary(student_data):\n",
        "  total_students = len(student_data)\n",
        "  total_grade = sum(infor['grade'] for infor in student_data)\n",
        "  avg_grade = total_grade / total_students\n",
        "  unique_schools = list(set(infor['school'] for infor in student_data))\n",
        "  return {\n",
        "      'Total Students': total_students,\n",
        "      'Average Grade': avg_grade,\n",
        "      'Schools': unique_schools\n",
        "  }\n",
        "\n",
        "\n",
        "student_data = [\n",
        "    {'name': 'Alice', 'school': 'Harvard', 'grade': 90},\n",
        "    {'name': 'Bob', 'school': 'Stanford', 'grade': 85},\n",
        "    {'name': 'Charlie', 'school': 'Harvard', 'grade': 92},\n",
        "    {'name': 'David', 'school': 'MIT', 'grade': 88}\n",
        "]\n",
        "student_data_summary(student_data)"
      ],
      "metadata": {
        "colab": {
          "base_uri": "https://localhost:8080/"
        },
        "id": "xV8YyY3UvVPr",
        "outputId": "10cc9127-f642-4599-ae90-ea167bb03ef0"
      },
      "execution_count": null,
      "outputs": [
        {
          "output_type": "execute_result",
          "data": {
            "text/plain": [
              "{'Total Students': 4,\n",
              " 'Average Grade': 88.75,\n",
              " 'Schools': ['MIT', 'Stanford', 'Harvard']}"
            ]
          },
          "metadata": {},
          "execution_count": 74
        }
      ]
    },
    {
      "cell_type": "code",
      "source": [
        "def employee_data_summary(employee_data):\n",
        "  total_employee = len(employee_data)\n",
        "  total_salary = sum(info['salary'] for info in employee_data)\n",
        "  avg_salary = total_salary / total_employee\n",
        "  department = list(set(info['department'] for info in employee_data))\n",
        "  return{\n",
        "      'Total Employee': total_employee,\n",
        "      'Average Salary': avg_salary,\n",
        "      'Departments' : department\n",
        "  }\n",
        "\n",
        "employee_data = [\n",
        "    {'name': 'John', 'department': 'HR', 'salary': 60000},\n",
        "    {'name': 'Sara', 'department': 'Finance', 'salary': 70000},\n",
        "    {'name': 'Mike', 'department': 'IT', 'salary': 80000},\n",
        "    {'name': 'Anna', 'department': 'HR', 'salary': 75000},\n",
        "    {'name': 'Tom', 'department': 'IT', 'salary': 85000}\n",
        "]\n",
        "\n",
        "employee_data_summary(employee_data)\n"
      ],
      "metadata": {
        "colab": {
          "base_uri": "https://localhost:8080/"
        },
        "id": "P5ma2dH2A4lS",
        "outputId": "82ffdd67-a5d5-40a3-9585-aa2718a3f453"
      },
      "execution_count": null,
      "outputs": [
        {
          "output_type": "execute_result",
          "data": {
            "text/plain": [
              "{'Total Employee': 5,\n",
              " 'Average Salary': 74000.0,\n",
              " 'Departments': ['IT', 'Finance', 'HR']}"
            ]
          },
          "metadata": {},
          "execution_count": 80
        }
      ]
    },
    {
      "cell_type": "code",
      "source": [
        "from datetime import datetime\n",
        "\n",
        "def project_summary(project_data):\n",
        "\n",
        "  project_items = len(project_data)\n",
        "  total_expected_days = sum(info['expected_days'] for info in project_data)\n",
        "  avg_expected_days = total_expected_days / project_items\n",
        "\n",
        "  departments = list(set(info['department'] for info in project_data))\n",
        "\n",
        "  project_per_manager = {}\n",
        "  for info in project_data:\n",
        "    manager = info['manager']\n",
        "    if manager in project_per_manager:\n",
        "      project_per_manager[manager] += 1\n",
        "    else: project_per_manager[manager] = 1\n",
        "\n",
        "  delayed_projects = []\n",
        "  for info in project_data:\n",
        "    start_date = datetime.strptime(info['start_date'], '%Y-%m-%d')\n",
        "    end_date = datetime.strptime(info['end_date'], '%Y-%m-%d')\n",
        "    actual_finish_days = (end_date - start_date).days\n",
        "    if actual_finish_days > info['expected_days']:\n",
        "      delayed_projects.append(info['name'])\n",
        "  return {\n",
        "      \"Project Count\": project_items,\n",
        "      \"Average expected days\": avg_expected_days,\n",
        "      \"Departments\": departments,\n",
        "      \"Projects per Manager\": project_per_manager,\n",
        "      \"Delayed Projects\": delayed_projects\n",
        "  }\n",
        "\n",
        "\n",
        "project_data = [\n",
        "    {\n",
        "        'name': 'Project A',\n",
        "        'department': 'Marketing',\n",
        "        'manager': 'Alice',\n",
        "        'start_date': '2024-01-10',\n",
        "        'end_date': '2024-01-30',\n",
        "        'expected_days': 15\n",
        "    },\n",
        "    {\n",
        "        'name': 'Project B',\n",
        "        'department': 'Finance',\n",
        "        'manager': 'Bob',\n",
        "        'start_date': '2024-02-05',\n",
        "        'end_date': '2024-02-18',\n",
        "        'expected_days': 10\n",
        "    },\n",
        "    {\n",
        "        'name': 'Project C',\n",
        "        'department': 'IT',\n",
        "        'manager': 'Alice',\n",
        "        'start_date': '2024-01-15',\n",
        "        'end_date': '2024-02-10',\n",
        "        'expected_days': 20\n",
        "    }\n",
        "]\n",
        "project_summary(project_data)"
      ],
      "metadata": {
        "colab": {
          "base_uri": "https://localhost:8080/"
        },
        "id": "aoZyFmZHLkTb",
        "outputId": "47c52f47-220c-40cd-a832-b687ebd5478f"
      },
      "execution_count": null,
      "outputs": [
        {
          "output_type": "execute_result",
          "data": {
            "text/plain": [
              "{'Project Count': 3,\n",
              " 'Average expected days': 15.0,\n",
              " 'Departments': ['Marketing', 'Finance', 'IT'],\n",
              " 'Projects per Manager': {'Alice': 2, 'Bob': 1},\n",
              " 'Delayed Projects': ['Project A', 'Project B', 'Project C']}"
            ]
          },
          "metadata": {},
          "execution_count": 92
        }
      ]
    },
    {
      "cell_type": "code",
      "source": [],
      "metadata": {
        "colab": {
          "base_uri": "https://localhost:8080/",
          "height": 141
        },
        "id": "v8YPWwVzWUJr",
        "outputId": "ef900abb-1187-4381-a42b-d024f2639198"
      },
      "execution_count": null,
      "outputs": [
        {
          "output_type": "error",
          "ename": "NameError",
          "evalue": "name 'start_date' is not defined",
          "traceback": [
            "\u001b[0;31m---------------------------------------------------------------------------\u001b[0m",
            "\u001b[0;31mNameError\u001b[0m                                 Traceback (most recent call last)",
            "\u001b[0;32m<ipython-input-94-ebb522faedf9>\u001b[0m in \u001b[0;36m<cell line: 1>\u001b[0;34m()\u001b[0m\n\u001b[0;32m----> 1\u001b[0;31m \u001b[0mtype\u001b[0m\u001b[0;34m(\u001b[0m\u001b[0mstart_date\u001b[0m\u001b[0;34m)\u001b[0m\u001b[0;34m\u001b[0m\u001b[0;34m\u001b[0m\u001b[0m\n\u001b[0m",
            "\u001b[0;31mNameError\u001b[0m: name 'start_date' is not defined"
          ]
        }
      ]
    },
    {
      "cell_type": "code",
      "source": [],
      "metadata": {
        "id": "QA8sZ0IBpswO"
      },
      "execution_count": null,
      "outputs": []
    }
  ]
}