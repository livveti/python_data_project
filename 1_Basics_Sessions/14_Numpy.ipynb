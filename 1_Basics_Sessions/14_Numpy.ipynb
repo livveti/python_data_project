{
  "nbformat": 4,
  "nbformat_minor": 0,
  "metadata": {
    "colab": {
      "provenance": []
    },
    "kernelspec": {
      "name": "python3",
      "display_name": "Python 3"
    },
    "language_info": {
      "name": "python"
    }
  },
  "cells": [
    {
      "cell_type": "code",
      "execution_count": null,
      "metadata": {
        "id": "vtEu7PoA9_oc"
      },
      "outputs": [],
      "source": [
        "import numpy as np"
      ]
    },
    {
      "cell_type": "code",
      "source": [
        "applications_list = [10, 15, 7, 20, 25, 30, 5]\n",
        "applications = np.array(applications_list)\n",
        "print(applications)"
      ],
      "metadata": {
        "colab": {
          "base_uri": "https://localhost:8080/"
        },
        "id": "3W-QeaEd-Eb1",
        "outputId": "8a2dfe9a-639b-4817-b419-eb1ef802afa2"
      },
      "execution_count": null,
      "outputs": [
        {
          "output_type": "stream",
          "name": "stdout",
          "text": [
            "[10 15  7 20 25 30  5]\n"
          ]
        }
      ]
    },
    {
      "cell_type": "code",
      "source": [
        "postings_list = [10, 15, 7, 20, 25, 30, 5]\n",
        "first_three_postings = np.array(postings_list)\n",
        "print(first_three_postings[:3])"
      ],
      "metadata": {
        "colab": {
          "base_uri": "https://localhost:8080/"
        },
        "id": "Lac4-0GeCCn9",
        "outputId": "ee779d40-88c7-46b0-af90-f76d324cf848"
      },
      "execution_count": null,
      "outputs": [
        {
          "output_type": "stream",
          "name": "stdout",
          "text": [
            "[10 15  7]\n"
          ]
        }
      ]
    },
    {
      "cell_type": "code",
      "source": [
        "salaries_list = [70000, 85000, 60000, 95000, 80000]\n",
        "highest_salary = np.max(salaries_list)\n",
        "lowest_salary = np.min(salaries_list)\n",
        "\n",
        "print(highest_salary, lowest_salary)"
      ],
      "metadata": {
        "colab": {
          "base_uri": "https://localhost:8080/"
        },
        "id": "E69WnQgRCxmu",
        "outputId": "fa29bf87-cb7b-431a-df6e-8f00eb5e1d9d"
      },
      "execution_count": null,
      "outputs": [
        {
          "output_type": "stream",
          "name": "stdout",
          "text": [
            "95000 60000\n"
          ]
        }
      ]
    },
    {
      "cell_type": "code",
      "source": [
        "import random"
      ],
      "metadata": {
        "id": "wl9pBIYPGmMk"
      },
      "execution_count": null,
      "outputs": []
    },
    {
      "cell_type": "code",
      "source": [
        "random.randint(100, 150)"
      ],
      "metadata": {
        "colab": {
          "base_uri": "https://localhost:8080/"
        },
        "id": "u67UEKY3GsPU",
        "outputId": "30ac269e-8b6f-475a-d045-d234ef135349"
      },
      "execution_count": null,
      "outputs": [
        {
          "output_type": "execute_result",
          "data": {
            "text/plain": [
              "138"
            ]
          },
          "metadata": {},
          "execution_count": 19
        }
      ]
    },
    {
      "cell_type": "code",
      "source": [],
      "metadata": {
        "id": "4LqkLSxrG0DS"
      },
      "execution_count": null,
      "outputs": []
    }
  ]
}