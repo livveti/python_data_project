{
 "cells": [
  {
   "cell_type": "code",
   "execution_count": null,
   "metadata": {
    "colab": {
     "base_uri": "https://localhost:8080/",
     "height": 36
    },
    "id": "BMIBsDdzX_Di",
    "outputId": "be9cd95a-a353-4e5b-e2a7-ab47911e931e"
   },
   "outputs": [
    {
     "data": {
      "application/vnd.google.colaboratory.intrinsic+json": {
       "type": "string"
      },
      "text/plain": [
       "'This is a coding cell'"
      ]
     },
     "execution_count": 2,
     "metadata": {},
     "output_type": "execute_result"
    }
   ],
   "source": [
    "\"This is a coding cell\""
   ]
  },
  {
   "cell_type": "code",
   "execution_count": null,
   "metadata": {
    "colab": {
     "base_uri": "https://localhost:8080/"
    },
    "id": "avuJAx_3falx",
    "outputId": "c33cc618-b570-4434-a467-1befecbf3b6e"
   },
   "outputs": [
    {
     "data": {
      "text/plain": [
       "4"
      ]
     },
     "execution_count": 4,
     "metadata": {},
     "output_type": "execute_result"
    }
   ],
   "source": [
    "2 + 2"
   ]
  },
  {
   "cell_type": "code",
   "execution_count": null,
   "metadata": {
    "colab": {
     "base_uri": "https://localhost:8080/"
    },
    "id": "lyTeh2blij_N",
    "outputId": "2c8e9a5c-98c2-4a6c-9b9c-f785f2a414ed"
   },
   "outputs": [
    {
     "name": "stdout",
     "output_type": "stream",
     "text": [
      "sample_data\n"
     ]
    }
   ],
   "source": [
    "!ls"
   ]
  },
  {
   "cell_type": "code",
   "execution_count": null,
   "metadata": {
    "id": "A3_fVpfAitpr"
   },
   "outputs": [],
   "source": [
    "job_id = 100\n",
    "job_title = \"Data Analyst\"\n",
    "job_company = \"SpaceX\"\n",
    "annual_salary = 100000\n",
    "job_wfh = False"
   ]
  },
  {
   "cell_type": "code",
   "execution_count": null,
   "metadata": {
    "colab": {
     "base_uri": "https://localhost:8080/"
    },
    "id": "aFoN1jC9lFY2",
    "outputId": "5ae5b6a3-171f-4901-dffb-db91e75f82e9"
   },
   "outputs": [
    {
     "name": "stdout",
     "output_type": "stream",
     "text": [
      "            Job Description            \n",
      "-----------------------------------------\n",
      "Job ID:               100\n",
      "Job Title:            Data Analyst\n",
      "Company:          SpaceX\n",
      "Salary:               100000\n",
      "WFH:                 False\n"
     ]
    }
   ],
   "source": [
    "print(\"            Job Description            \")\n",
    "print(\"-----------------------------------------\")\n",
    "print(\"Job ID:              \", job_id)\n",
    "print(\"Job Title:           \", job_title)\n",
    "print(\"Company:         \", job_company)\n",
    "print(\"Salary:              \", annual_salary)\n",
    "print(\"WFH:                \", job_wfh)"
   ]
  },
  {
   "cell_type": "code",
   "execution_count": null,
   "metadata": {
    "id": "rf1ZuxynloVx"
   },
   "outputs": [],
   "source": [
    "job_count = 42\n",
    "print(job_count)"
   ]
  },
  {
   "cell_type": "code",
   "execution_count": null,
   "metadata": {
    "id": "UB4_BS4mmBI-"
   },
   "outputs": [],
   "source": [
    "job_title = \"Data Engineer\"\n",
    "job_company = \"DataWorks\"\n",
    "job_wfh = True\n",
    "print(\"Title:           \", job_title)\n",
    "print(\"Company:  \", job_company)\n",
    "print(\"WFH:         \", job_wfh)"
   ]
  },
  {
   "cell_type": "code",
   "execution_count": null,
   "metadata": {
    "id": "dH1VVst2mkU8"
   },
   "outputs": [],
   "source": [
    "base_salary = 120000\n",
    "bonus = 20000\n",
    "total_compensation = base_salary + bonus\n",
    "print(total_compensation)"
   ]
  },
  {
   "cell_type": "code",
   "execution_count": null,
   "metadata": {
    "id": "0ZiecdLDmlis"
   },
   "outputs": [],
   "source": [
    "annual_salary = 72000\n",
    "monthly_salary = annual_salary / 12\n",
    "print(monthly_salary)"
   ]
  }
 ],
 "metadata": {
  "colab": {
   "provenance": []
  },
  "kernelspec": {
   "display_name": "Python 3",
   "name": "python3"
  },
  "language_info": {
   "name": "python"
  }
 },
 "nbformat": 4,
 "nbformat_minor": 0
}
