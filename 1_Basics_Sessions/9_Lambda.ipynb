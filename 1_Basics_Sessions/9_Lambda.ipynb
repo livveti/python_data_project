{
  "nbformat": 4,
  "nbformat_minor": 0,
  "metadata": {
    "colab": {
      "provenance": []
    },
    "kernelspec": {
      "name": "python3",
      "display_name": "Python 3"
    },
    "language_info": {
      "name": "python"
    }
  },
  "cells": [
    {
      "cell_type": "code",
      "execution_count": null,
      "metadata": {
        "id": "h2vWb_KynZPu"
      },
      "outputs": [],
      "source": [
        "salaries = [95000, 120000, 105000, 90000, 130000]"
      ]
    },
    {
      "cell_type": "code",
      "source": [
        "total_salary = 0\n",
        "for salary in salaries:\n",
        "  total_salary += salary\n",
        "avg_salary = total_salary / len(salaries)\n",
        "print(avg_salary)"
      ],
      "metadata": {
        "colab": {
          "base_uri": "https://localhost:8080/"
        },
        "id": "3MIVJx3grrQc",
        "outputId": "5fc77d05-bc10-4d21-cd38-d4f830143f7c"
      },
      "execution_count": null,
      "outputs": [
        {
          "output_type": "stream",
          "name": "stdout",
          "text": [
            "108000.0\n"
          ]
        }
      ]
    },
    {
      "cell_type": "code",
      "source": [
        "salaries = [95000, 120000, 105000, 90000, 130000]\n",
        "average_salary = lambda salaries: sum(salaries) / len(salaries)\n",
        "average = average_salary(salaries)\n",
        "average"
      ],
      "metadata": {
        "id": "JmzfRyCVz9ue",
        "colab": {
          "base_uri": "https://localhost:8080/"
        },
        "outputId": "eaed3172-d728-40f9-f44d-4dacb5c85428"
      },
      "execution_count": null,
      "outputs": [
        {
          "output_type": "execute_result",
          "data": {
            "text/plain": [
              "108000.0"
            ]
          },
          "metadata": {},
          "execution_count": 6
        }
      ]
    },
    {
      "cell_type": "code",
      "source": [
        "salaries = [95000, 120000, 105000, 90000, 130000]\n",
        "avg_salary = lambda salaries: sum(salaries)/ len(salaries)\n",
        "average = avg_salary(salaries)\n",
        "average"
      ],
      "metadata": {
        "colab": {
          "base_uri": "https://localhost:8080/"
        },
        "id": "n57fZN429dXE",
        "outputId": "6e4578d5-e349-48d9-801c-0c9a03c6f42a"
      },
      "execution_count": null,
      "outputs": [
        {
          "output_type": "execute_result",
          "data": {
            "text/plain": [
              "108000.0"
            ]
          },
          "metadata": {},
          "execution_count": 7
        }
      ]
    },
    {
      "cell_type": "code",
      "source": [
        "job_titles = ['Data Scientist', 'Data Engineer', 'Machine Learning Engineer', 'Data Analyst']\n",
        "data_job = list(filter(lambda job_titles: 'Data' in job_titles, job_titles))\n",
        "data_job"
      ],
      "metadata": {
        "colab": {
          "base_uri": "https://localhost:8080/"
        },
        "id": "Aac9xbD0AT9B",
        "outputId": "b8eb2521-8560-4ce3-81d0-2de06c1759a9"
      },
      "execution_count": null,
      "outputs": [
        {
          "output_type": "execute_result",
          "data": {
            "text/plain": [
              "['Data Scientist', 'Data Engineer', 'Data Analyst']"
            ]
          },
          "metadata": {},
          "execution_count": 14
        }
      ]
    },
    {
      "cell_type": "code",
      "source": [
        "job_postings = [\n",
        "    {'title': 'Data Scientist', 'skills': ['Python', 'SQL'], 'remote': True},\n",
        "    {'title': 'Data Analyst', 'skills': ['Excel', 'SQL'], 'remote': False},\n",
        "    {'title': 'Machine Learning Engineer', 'skills': ['Python', 'TensorFlow'], 'remote': True},\n",
        "    {'title': 'Software Developer', 'skills': ['Java', 'C++'], 'remote': True}\n",
        "]\n",
        "\n",
        "filter_jobs = lambda postings: 'Python' in postings['skills'] and postings['remote']\n",
        "remote_python_job = list(filter(filter_jobs, job_postings))\n",
        "remote_python_job"
      ],
      "metadata": {
        "colab": {
          "base_uri": "https://localhost:8080/"
        },
        "id": "3I8KQ2aZBI0_",
        "outputId": "a7f6fd46-b493-406e-ade0-16e23eb14923"
      },
      "execution_count": null,
      "outputs": [
        {
          "output_type": "execute_result",
          "data": {
            "text/plain": [
              "[{'title': 'Data Scientist', 'skills': ['Python', 'SQL'], 'remote': True},\n",
              " {'title': 'Machine Learning Engineer',\n",
              "  'skills': ['Python', 'TensorFlow'],\n",
              "  'remote': True}]"
            ]
          },
          "metadata": {},
          "execution_count": 20
        }
      ]
    },
    {
      "cell_type": "code",
      "source": [
        "job_postings = [\n",
        "    {'title': 'Data Scientist', 'skills': ['Python', 'SQL'], 'remote': True},\n",
        "    {'title': 'Data Analyst', 'skills': ['Excel', 'SQL'], 'remote': False},\n",
        "    {'title': 'Machine Learning Engineer', 'skills': ['Python', 'TensorFlow'], 'remote': True},\n",
        "    {'title': 'Software Developer', 'skills': ['Java', 'C++'], 'remote': True}\n",
        "]\n",
        "\n",
        "remote_python_job = list(filter(lambda postings: 'Python' in postings['skills'] and postings ['remote'], job_postings))\n",
        "remote_python_job"
      ],
      "metadata": {
        "colab": {
          "base_uri": "https://localhost:8080/"
        },
        "id": "ts8bWDHbDjrX",
        "outputId": "fffdcacf-8bd3-408c-807c-c9520c8d3cd8"
      },
      "execution_count": null,
      "outputs": [
        {
          "output_type": "execute_result",
          "data": {
            "text/plain": [
              "[{'title': 'Data Scientist', 'skills': ['Python', 'SQL'], 'remote': True},\n",
              " {'title': 'Machine Learning Engineer',\n",
              "  'skills': ['Python', 'TensorFlow'],\n",
              "  'remote': True}]"
            ]
          },
          "metadata": {},
          "execution_count": 22
        }
      ]
    },
    {
      "cell_type": "code",
      "source": [],
      "metadata": {
        "id": "h0uiyunXFoMK"
      },
      "execution_count": null,
      "outputs": []
    }
  ]
}