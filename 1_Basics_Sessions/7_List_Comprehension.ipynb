{
  "nbformat": 4,
  "nbformat_minor": 0,
  "metadata": {
    "colab": {
      "provenance": []
    },
    "kernelspec": {
      "name": "python3",
      "display_name": "Python 3"
    },
    "language_info": {
      "name": "python"
    }
  },
  "cells": [
    {
      "cell_type": "code",
      "execution_count": null,
      "metadata": {
        "colab": {
          "base_uri": "https://localhost:8080/"
        },
        "id": "jmT2igvSQaN-",
        "outputId": "0c67831d-4dce-4034-f588-5ddff2e0e9c4"
      },
      "outputs": [
        {
          "output_type": "execute_result",
          "data": {
            "text/plain": [
              "[0, 1, 2, 3, 4]"
            ]
          },
          "metadata": {},
          "execution_count": 2
        }
      ],
      "source": [
        "numbers = [x for x in range(5)]\n",
        "numbers"
      ]
    },
    {
      "cell_type": "code",
      "source": [
        "salaries_usd = [100000, 120000, 80000, 90000]\n",
        "salaries_usd"
      ],
      "metadata": {
        "colab": {
          "base_uri": "https://localhost:8080/"
        },
        "id": "24OZ29RNUCYf",
        "outputId": "8f9b2f36-83f4-4dfc-b9ed-2f216f54832e"
      },
      "execution_count": null,
      "outputs": [
        {
          "output_type": "execute_result",
          "data": {
            "text/plain": [
              "[100000, 120000, 80000, 90000]"
            ]
          },
          "metadata": {},
          "execution_count": 4
        }
      ]
    },
    {
      "cell_type": "code",
      "source": [
        "salaries_eur = [salary*0.85 for salary in salaries_usd]\n",
        "salaries_eur"
      ],
      "metadata": {
        "colab": {
          "base_uri": "https://localhost:8080/"
        },
        "id": "d82t84B0e2K0",
        "outputId": "1818abfb-0ce4-4427-82c1-184e354ca513"
      },
      "execution_count": null,
      "outputs": [
        {
          "output_type": "execute_result",
          "data": {
            "text/plain": [
              "[85000.0, 102000.0, 68000.0, 76500.0]"
            ]
          },
          "metadata": {},
          "execution_count": 54
        }
      ]
    },
    {
      "cell_type": "code",
      "source": [
        "salaries_eur = [salary*0.85 for salary in salaries_usd]\n",
        "salaries_eur"
      ],
      "metadata": {
        "colab": {
          "base_uri": "https://localhost:8080/"
        },
        "id": "AD62ESSdVU_m",
        "outputId": "3761a7f4-1dc7-4ec1-f99f-440260513a31"
      },
      "execution_count": null,
      "outputs": [
        {
          "output_type": "execute_result",
          "data": {
            "text/plain": [
              "[85000.0, 102000.0, 68000.0, 76500.0]"
            ]
          },
          "metadata": {},
          "execution_count": 11
        }
      ]
    },
    {
      "cell_type": "code",
      "source": [
        "job_experience = {'Data Scientist': 3, 'Data Analyst': 1, 'Machine Learning Engineer': 4, 'Data Engineer': 2}\n",
        "advanced_job = [job for job, exp in job_experience.items() if exp > 2]\n",
        "advanced_job"
      ],
      "metadata": {
        "colab": {
          "base_uri": "https://localhost:8080/"
        },
        "id": "mHTwJsjMWTd1",
        "outputId": "c22b13fb-d9e9-49b0-fa0e-925cb0fe88af"
      },
      "execution_count": null,
      "outputs": [
        {
          "output_type": "execute_result",
          "data": {
            "text/plain": [
              "['Data Scientist', 'Machine Learning Engineer']"
            ]
          },
          "metadata": {},
          "execution_count": 21
        }
      ]
    },
    {
      "cell_type": "code",
      "source": [
        "job_experience = {'Data Scientist': 3, 'Data Analyst': 1, 'Machine Learning Engineer': 4, 'Data Engineer': 2}\n",
        "advanced_job = [exp for job, exp in job_experience.items() if exp > 2]\n",
        "advanced_job"
      ],
      "metadata": {
        "colab": {
          "base_uri": "https://localhost:8080/"
        },
        "id": "2uFmBZp8XhIz",
        "outputId": "3ab2352c-6a34-49fc-82b1-d5f43b8c55ae"
      },
      "execution_count": null,
      "outputs": [
        {
          "output_type": "execute_result",
          "data": {
            "text/plain": [
              "[3, 4]"
            ]
          },
          "metadata": {},
          "execution_count": 22
        }
      ]
    },
    {
      "cell_type": "code",
      "source": [
        "job_salary_dicts = [{'job_title': 'Data Scientist', 'salary': 100000}, {'job_title': 'Data Analyst', 'salary': 120000}, {'job_title': 'Data Engineer', 'salary': 80000}, {'job_title': 'Machine Learning Engineer', 'salary': 90000}]\n",
        "advance_job = [job['job_title'] for job in job_salary_dicts if job['salary'] > 90000]\n",
        "\n",
        "advance_job"
      ],
      "metadata": {
        "colab": {
          "base_uri": "https://localhost:8080/"
        },
        "id": "-A2fMcHGZu0I",
        "outputId": "28730d00-5167-45e4-d8d9-cc3a84c2dd52"
      },
      "execution_count": null,
      "outputs": [
        {
          "output_type": "execute_result",
          "data": {
            "text/plain": [
              "['Data Scientist', 'Data Analyst']"
            ]
          },
          "metadata": {},
          "execution_count": 53
        }
      ]
    },
    {
      "cell_type": "code",
      "source": [
        "job_salary_dicts = [{'job_title': 'Data Scientist', 'salary': 100000}, {'job_title': 'Data Analyst', 'salary': 120000}, {'job_title': 'Data Engineer', 'salary': 80000}, {'job_title': 'Machine Learning Engineer', 'salary': 90000}]\n",
        "advance_job = [(job['job_title'], job['salary']) for job in job_salary_dicts if job['salary'] > 90000]\n",
        "\n",
        "advance_job"
      ],
      "metadata": {
        "colab": {
          "base_uri": "https://localhost:8080/"
        },
        "id": "rZP0qiFBaNeS",
        "outputId": "1d7669ef-6dd2-4dd1-af91-0bb57735c372"
      },
      "execution_count": null,
      "outputs": [
        {
          "output_type": "execute_result",
          "data": {
            "text/plain": [
              "[('Data Scientist', 100000), ('Data Analyst', 120000)]"
            ]
          },
          "metadata": {},
          "execution_count": 50
        }
      ]
    },
    {
      "cell_type": "markdown",
      "source": [
        "# Re practice"
      ],
      "metadata": {
        "id": "0-8m3yftfUT8"
      }
    },
    {
      "cell_type": "code",
      "source": [
        "salaries_usd = [100000, 120000, 80000, 90000]\n",
        "salaries_eur = [salary*.85 for salary in salaries_usd]\n",
        "salaries_eur"
      ],
      "metadata": {
        "colab": {
          "base_uri": "https://localhost:8080/"
        },
        "id": "WU5534pcduP4",
        "outputId": "dc038d96-3fbc-4f8c-da7f-349f5810530c"
      },
      "execution_count": null,
      "outputs": [
        {
          "output_type": "execute_result",
          "data": {
            "text/plain": [
              "[85000.0, 102000.0, 68000.0, 76500.0]"
            ]
          },
          "metadata": {},
          "execution_count": 58
        }
      ]
    },
    {
      "cell_type": "code",
      "source": [
        "job_experience = {'Data Scientist': 3, 'Data Analyst': 1, 'Machine Learning Specialist': 4, 'Data Engineer': 2}\n",
        "advance_job = [job for job, exp in job_experience.items() if exp > 2]\n",
        "advance_job"
      ],
      "metadata": {
        "colab": {
          "base_uri": "https://localhost:8080/"
        },
        "id": "dgNfEZUDfwvt",
        "outputId": "da2d6076-8048-4680-8194-25995ba4683d"
      },
      "execution_count": null,
      "outputs": [
        {
          "output_type": "execute_result",
          "data": {
            "text/plain": [
              "['Data Scientist', 'Machine Learning Specialist']"
            ]
          },
          "metadata": {},
          "execution_count": 62
        }
      ]
    },
    {
      "cell_type": "code",
      "source": [
        "job_experience = {'Data Scientist': 3, 'Data Analyst': 1, 'Machine Learning Specialist': 4, 'Data Engineer': 2}\n",
        "advance_job = [(job, exp) for job, exp in job_experience.items() if exp > 2]\n",
        "advance_job"
      ],
      "metadata": {
        "colab": {
          "base_uri": "https://localhost:8080/"
        },
        "id": "0_9GQclBgUhP",
        "outputId": "868ae7ee-da99-4dc8-fdc0-7b77fe978df5"
      },
      "execution_count": null,
      "outputs": [
        {
          "output_type": "execute_result",
          "data": {
            "text/plain": [
              "[('Data Scientist', 3), ('Machine Learning Specialist', 4)]"
            ]
          },
          "metadata": {},
          "execution_count": 63
        }
      ]
    },
    {
      "cell_type": "code",
      "source": [
        "job_salary_dicts = [{'job_title': 'Data Scientist', 'salary': 100000}, {'job_title': 'Data Analyst', 'salary': 120000}, {'job_title': 'Data Engineer', 'salary': 80000}, {'job_title': 'Machine Learning Engineer', 'salary': 90000}]\n",
        "high_paid_jobs = [(job['job_title'], job['salary']) for job in job_salary_dicts if job['salary'] > 90000]\n",
        "high_paid_jobs"
      ],
      "metadata": {
        "colab": {
          "base_uri": "https://localhost:8080/"
        },
        "id": "BHqc_OlPgsgm",
        "outputId": "d28cefbf-c948-44d5-d51e-93010bce9c8f"
      },
      "execution_count": null,
      "outputs": [
        {
          "output_type": "execute_result",
          "data": {
            "text/plain": [
              "[('Data Scientist', 100000), ('Data Analyst', 120000)]"
            ]
          },
          "metadata": {},
          "execution_count": 68
        }
      ]
    },
    {
      "cell_type": "markdown",
      "source": [
        "# More Practice"
      ],
      "metadata": {
        "id": "RP9wKoddnWKK"
      }
    },
    {
      "cell_type": "code",
      "source": [
        "salaries_usd = [100000, 120000, 80000, 90000]\n",
        "salaries_gbp = [salary*0.75 for salary in salaries_usd]\n",
        "salaries_gbp"
      ],
      "metadata": {
        "colab": {
          "base_uri": "https://localhost:8080/"
        },
        "id": "h6jlf4uYhl3F",
        "outputId": "b8fbd0d4-9fda-4248-fb4c-8efe3ec16249"
      },
      "execution_count": null,
      "outputs": [
        {
          "output_type": "execute_result",
          "data": {
            "text/plain": [
              "[75000.0, 90000.0, 60000.0, 67500.0]"
            ]
          },
          "metadata": {},
          "execution_count": 69
        }
      ]
    },
    {
      "cell_type": "code",
      "source": [
        "job_experience = {'Data Scientist': 3, 'Data Analyst': 1, 'Machine Learning Specialist': 4, 'Data Engineer': 2}\n",
        "beginner_job = [(job, exp) for job, exp in job_experience.items() if exp <= 2]\n",
        "beginner_job"
      ],
      "metadata": {
        "colab": {
          "base_uri": "https://localhost:8080/"
        },
        "id": "PEZ5Kds2nneZ",
        "outputId": "4c6aeb13-e4f7-4ff8-90ac-9388e66693d1"
      },
      "execution_count": null,
      "outputs": [
        {
          "output_type": "execute_result",
          "data": {
            "text/plain": [
              "[('Data Analyst', 1), ('Data Engineer', 2)]"
            ]
          },
          "metadata": {},
          "execution_count": 81
        }
      ]
    },
    {
      "cell_type": "code",
      "source": [
        "job_experience = {'Data Scientist': 3, 'Data Analyst': 1, 'Machine Learning Specialist': 4, 'Data Engineer': 2}\n",
        "beginner_job = [(job, exp) for job, exp in job_experience.items() if exp < 2]\n",
        "print('The beginner job of', beginner_job(job), 'requires', beginner_job(exp), 'of experience')\n"
      ],
      "metadata": {
        "colab": {
          "base_uri": "https://localhost:8080/",
          "height": 176
        },
        "id": "o5QdSIj2n_L1",
        "outputId": "4f4679de-917b-4320-ec99-ee7d93da98a2"
      },
      "execution_count": null,
      "outputs": [
        {
          "output_type": "error",
          "ename": "NameError",
          "evalue": "name 'job' is not defined",
          "traceback": [
            "\u001b[0;31m---------------------------------------------------------------------------\u001b[0m",
            "\u001b[0;31mNameError\u001b[0m                                 Traceback (most recent call last)",
            "\u001b[0;32m<ipython-input-80-a11d8a18c6aa>\u001b[0m in \u001b[0;36m<cell line: 3>\u001b[0;34m()\u001b[0m\n\u001b[1;32m      1\u001b[0m \u001b[0mjob_experience\u001b[0m \u001b[0;34m=\u001b[0m \u001b[0;34m{\u001b[0m\u001b[0;34m'Data Scientist'\u001b[0m\u001b[0;34m:\u001b[0m \u001b[0;36m3\u001b[0m\u001b[0;34m,\u001b[0m \u001b[0;34m'Data Analyst'\u001b[0m\u001b[0;34m:\u001b[0m \u001b[0;36m1\u001b[0m\u001b[0;34m,\u001b[0m \u001b[0;34m'Machine Learning Specialist'\u001b[0m\u001b[0;34m:\u001b[0m \u001b[0;36m4\u001b[0m\u001b[0;34m,\u001b[0m \u001b[0;34m'Data Engineer'\u001b[0m\u001b[0;34m:\u001b[0m \u001b[0;36m2\u001b[0m\u001b[0;34m}\u001b[0m\u001b[0;34m\u001b[0m\u001b[0;34m\u001b[0m\u001b[0m\n\u001b[1;32m      2\u001b[0m \u001b[0mbeginner_job\u001b[0m \u001b[0;34m=\u001b[0m \u001b[0;34m[\u001b[0m\u001b[0;34m(\u001b[0m\u001b[0mjob\u001b[0m\u001b[0;34m,\u001b[0m \u001b[0mexp\u001b[0m\u001b[0;34m)\u001b[0m \u001b[0;32mfor\u001b[0m \u001b[0mjob\u001b[0m\u001b[0;34m,\u001b[0m \u001b[0mexp\u001b[0m \u001b[0;32min\u001b[0m \u001b[0mjob_experience\u001b[0m\u001b[0;34m.\u001b[0m\u001b[0mitems\u001b[0m\u001b[0;34m(\u001b[0m\u001b[0;34m)\u001b[0m \u001b[0;32mif\u001b[0m \u001b[0mexp\u001b[0m \u001b[0;34m<\u001b[0m \u001b[0;36m2\u001b[0m\u001b[0;34m]\u001b[0m\u001b[0;34m\u001b[0m\u001b[0;34m\u001b[0m\u001b[0m\n\u001b[0;32m----> 3\u001b[0;31m \u001b[0mprint\u001b[0m\u001b[0;34m(\u001b[0m\u001b[0;34m'The beginner job of'\u001b[0m\u001b[0;34m,\u001b[0m \u001b[0mbeginner_job\u001b[0m\u001b[0;34m(\u001b[0m\u001b[0mjob\u001b[0m\u001b[0;34m)\u001b[0m\u001b[0;34m,\u001b[0m \u001b[0;34m'requires'\u001b[0m\u001b[0;34m,\u001b[0m \u001b[0mbeginner_job\u001b[0m\u001b[0;34m(\u001b[0m\u001b[0mexp\u001b[0m\u001b[0;34m)\u001b[0m\u001b[0;34m,\u001b[0m \u001b[0;34m'of experience'\u001b[0m\u001b[0;34m)\u001b[0m\u001b[0;34m\u001b[0m\u001b[0;34m\u001b[0m\u001b[0m\n\u001b[0m",
            "\u001b[0;31mNameError\u001b[0m: name 'job' is not defined"
          ]
        }
      ]
    },
    {
      "cell_type": "code",
      "source": [
        "job_salary_dicts = [\n",
        "    {'job_title': 'Data Scientist', 'salary': 100000},\n",
        "    {'job_title': 'Data Analyst', 'salary': 120000},\n",
        "    {'job_title': 'Data Engineer', 'salary': 80000},\n",
        "    {'job_title': 'Machine Learning Engineer', 'salary': 90000}\n",
        "]\n",
        "affordable_jobs = [job['job_title'] for job in job_salary_dicts if job['salary'] < 90000]\n",
        "affordable_jobs"
      ],
      "metadata": {
        "colab": {
          "base_uri": "https://localhost:8080/"
        },
        "id": "hNyekerzo9qT",
        "outputId": "573a9a29-d6b5-4c74-e3db-4799c311d3b0"
      },
      "execution_count": null,
      "outputs": [
        {
          "output_type": "execute_result",
          "data": {
            "text/plain": [
              "['Data Engineer']"
            ]
          },
          "metadata": {},
          "execution_count": 91
        }
      ]
    },
    {
      "cell_type": "code",
      "source": [
        "job_salary_dicts = [\n",
        "    {'job_title': 'Data Scientist', 'salary': 100000},\n",
        "    {'job_title': 'Data Analyst', 'salary': 120000},\n",
        "    {'job_title': 'Data Engineer', 'salary': 80000},\n",
        "    {'job_title': 'Machine Learning Engineer', 'salary': 90000}\n",
        "]\n",
        "affordable_jobs = [(job['job_title'], job['salary']) for job in job_salary_dicts if job['salary'] < 90000]\n",
        "affordable_jobs"
      ],
      "metadata": {
        "colab": {
          "base_uri": "https://localhost:8080/"
        },
        "id": "YBnS3hDxsvVM",
        "outputId": "1734d23e-ec65-4348-b616-0cb9dc5963c7"
      },
      "execution_count": null,
      "outputs": [
        {
          "output_type": "execute_result",
          "data": {
            "text/plain": [
              "[('Data Engineer', 80000)]"
            ]
          },
          "metadata": {},
          "execution_count": 89
        }
      ]
    },
    {
      "cell_type": "code",
      "source": [
        "job_salary_dicts = [\n",
        "    {'job_title': 'Data Scientist', 'salary': 100000},\n",
        "    {'job_title': 'Data Analyst', 'salary': 120000},\n",
        "    {'job_title': 'Data Engineer', 'salary': 80000},\n",
        "    {'job_title': 'Machine Learning Engineer', 'salary': 90000}\n",
        "]\n",
        "\n",
        "high_paid_jobs = [(job['job_title'], job['salary']) for job in job_salary_dicts if job['salary'] > 95000]\n",
        "high_paid_jobs"
      ],
      "metadata": {
        "colab": {
          "base_uri": "https://localhost:8080/"
        },
        "id": "Atxl5YnItvuY",
        "outputId": "95a3b23e-6f79-4e14-b887-d2e96be8c19b"
      },
      "execution_count": null,
      "outputs": [
        {
          "output_type": "execute_result",
          "data": {
            "text/plain": [
              "[('Data Scientist', 100000), ('Data Analyst', 120000)]"
            ]
          },
          "metadata": {},
          "execution_count": 93
        }
      ]
    },
    {
      "cell_type": "code",
      "source": [],
      "metadata": {
        "id": "84pTffz8vmr6"
      },
      "execution_count": null,
      "outputs": []
    }
  ]
}