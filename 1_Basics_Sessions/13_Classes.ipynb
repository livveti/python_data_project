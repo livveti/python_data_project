{
  "nbformat": 4,
  "nbformat_minor": 0,
  "metadata": {
    "colab": {
      "provenance": []
    },
    "kernelspec": {
      "name": "python3",
      "display_name": "Python 3"
    },
    "language_info": {
      "name": "python"
    }
  },
  "cells": [
    {
      "cell_type": "code",
      "execution_count": null,
      "metadata": {
        "id": "KjEbOP5DUjdq"
      },
      "outputs": [],
      "source": [
        "class BaseSalary:\n",
        "  def __init__(self, base_salary, bonus_rate = 0.1, symbol = '$'):\n",
        "    self.base_salary = base_salary\n",
        "    self.bonus_rate = bonus_rate\n",
        "    self.symbol = symbol\n",
        "    self.total_salary = base_salary * (1 +  bonus_rate)\n",
        "    self.bonus = self.total_salary - self.base_salary\n",
        "\n",
        "  def __repr__(self):\n",
        "    return f'{self.symbol}{self.base_salary:,.0f}'\n",
        "  def show_total(self):\n",
        "    return f'{self.symbol}{self.total_salary:,.0f}'\n",
        "  def show_bonus(self):\n",
        "    return f'{self.symbol}{self.bonus:,.0f}'"
      ]
    },
    {
      "cell_type": "code",
      "source": [
        "salary = BaseSalary(100000)\n",
        "\n",
        "salary.symbol"
      ],
      "metadata": {
        "id": "M-RKSdEiVeyV",
        "colab": {
          "base_uri": "https://localhost:8080/",
          "height": 36
        },
        "outputId": "62482ebf-729b-4f87-a041-bc4f507e0b45"
      },
      "execution_count": null,
      "outputs": [
        {
          "output_type": "execute_result",
          "data": {
            "text/plain": [
              "'$'"
            ],
            "application/vnd.google.colaboratory.intrinsic+json": {
              "type": "string"
            }
          },
          "metadata": {},
          "execution_count": 57
        }
      ]
    },
    {
      "cell_type": "code",
      "source": [
        "salary"
      ],
      "metadata": {
        "colab": {
          "base_uri": "https://localhost:8080/"
        },
        "id": "5HazSqKEaoXn",
        "outputId": "a63bc445-5a02-4cd9-e22a-5c962be23bc1"
      },
      "execution_count": null,
      "outputs": [
        {
          "output_type": "execute_result",
          "data": {
            "text/plain": [
              "$100,000"
            ]
          },
          "metadata": {},
          "execution_count": 61
        }
      ]
    },
    {
      "cell_type": "code",
      "source": [
        "salary.show_bonus()"
      ],
      "metadata": {
        "colab": {
          "base_uri": "https://localhost:8080/",
          "height": 36
        },
        "id": "OiUhIYEWgkZM",
        "outputId": "9083269c-43d2-4d76-bd59-bb4ba66b9afd"
      },
      "execution_count": null,
      "outputs": [
        {
          "output_type": "execute_result",
          "data": {
            "text/plain": [
              "'$10,000'"
            ],
            "application/vnd.google.colaboratory.intrinsic+json": {
              "type": "string"
            }
          },
          "metadata": {},
          "execution_count": 59
        }
      ]
    },
    {
      "cell_type": "code",
      "source": [
        "class JobPosting:\n",
        "  def __init__(self, title, company,location):\n",
        "    self.title = title\n",
        "    self.company = company\n",
        "    self.location = location\n",
        "  def __repr__(self):\n",
        "    return f'{self.title}, {self.company}, {self.location}'"
      ],
      "metadata": {
        "id": "6mQM2uqTgp2W"
      },
      "execution_count": null,
      "outputs": []
    },
    {
      "cell_type": "code",
      "source": [
        "job = JobPosting('Data Scientist', 'Tech Innovations', 'New York')"
      ],
      "metadata": {
        "id": "--u9CgyFjDKn"
      },
      "execution_count": null,
      "outputs": []
    },
    {
      "cell_type": "code",
      "source": [
        "job"
      ],
      "metadata": {
        "colab": {
          "base_uri": "https://localhost:8080/"
        },
        "id": "SSmqBymBjLDi",
        "outputId": "95547aac-60b3-4cae-88d9-890b89f6fbdf"
      },
      "execution_count": null,
      "outputs": [
        {
          "output_type": "execute_result",
          "data": {
            "text/plain": [
              "Data Scientist, Tech Innovations, New York"
            ]
          },
          "metadata": {},
          "execution_count": 64
        }
      ]
    },
    {
      "cell_type": "code",
      "source": [
        "class JobPosting:\n",
        "  def __init__(self, title, company, location, salary):\n",
        "    self.title = title\n",
        "    self.company = company\n",
        "    self.location = location\n",
        "    self.salary = salary\n",
        "\n",
        "  def to_dict(self):\n",
        "    return {\n",
        "        'title': self.title,\n",
        "        'company': self.company,\n",
        "        'location': self.location,\n",
        "        'salary': self.salary\n",
        "    }"
      ],
      "metadata": {
        "id": "kBj1i15YjMAA"
      },
      "execution_count": null,
      "outputs": []
    },
    {
      "cell_type": "code",
      "source": [
        "job = JobPosting('Data Scientist', 'Tech Innovations', 'New York', 120000)\n",
        "\n",
        "job.to_dict()"
      ],
      "metadata": {
        "colab": {
          "base_uri": "https://localhost:8080/"
        },
        "id": "JUctZR3S-kcb",
        "outputId": "b514f51a-f3c3-4e2f-bb63-aed323373bb9"
      },
      "execution_count": null,
      "outputs": [
        {
          "output_type": "execute_result",
          "data": {
            "text/plain": [
              "{'title': 'Data Scientist',\n",
              " 'company': 'Tech Innovations',\n",
              " 'location': 'New York',\n",
              " 'salary': 120000}"
            ]
          },
          "metadata": {},
          "execution_count": 17
        }
      ]
    },
    {
      "cell_type": "code",
      "source": [
        "class JobPosting:\n",
        "  def __init__(self, title, company, location, salary):\n",
        "    self.title = title\n",
        "    self.company = company\n",
        "    self.location = location\n",
        "    self.salary = salary\n",
        "\n",
        "  def compare_salary(self, other_job):\n",
        "    if self.salary > other_job.salary:\n",
        "      return f'{self.title}, {self.salary}'\n",
        "    else: return f'{other_job.title}, {other_job.salary}'\n",
        "\n",
        "job1 = JobPosting('Data Scientist', 'Tech Innovations', 'New York', 120000)\n",
        "job2 = JobPosting('Data Analyst', 'Data Driven Co', 'San Francisco', 100000)\n",
        "print(job1.compare_salary(job2))"
      ],
      "metadata": {
        "id": "XtOLW217-vhB"
      },
      "execution_count": null,
      "outputs": []
    },
    {
      "cell_type": "code",
      "source": [
        "job1 = JobPosting('Data Scientist', 'Tech Innovations', 'New York', 120000)\n",
        "job2 = JobPosting('Data Analyst', 'Data Driven Co', 'San Francisco', 100000)\n",
        "print(job1.compare_salary(job2)) #這行代碼調用了 job1 的 compare_salary 方法，並將 job2 作為參數傳入"
      ],
      "metadata": {
        "colab": {
          "base_uri": "https://localhost:8080/"
        },
        "id": "qfeDcNR_AKRQ",
        "outputId": "1c4a5370-289d-467a-f9a9-6fc0794aacc0"
      },
      "execution_count": null,
      "outputs": [
        {
          "output_type": "stream",
          "name": "stdout",
          "text": [
            "Data Scientist, 120000\n"
          ]
        }
      ]
    },
    {
      "cell_type": "code",
      "source": [
        "class MySalary:\n",
        "  def __init__(self, base_salary, bonus_rate = 0.1, symbol = '$'):\n",
        "    self.base_salary = base_salary\n",
        "    self.bonus_salary = bonus_rate\n",
        "    self.symbol = symbol\n",
        "    self.total_salary = base_salary * (1 + bonus_rate)\n",
        "    self.bonus = self.total_salary - self.base_salary\n",
        "\n",
        "  def __repr__(self):\n",
        "    return f'{self.symbol}{self.base_salary:,.0f}'\n",
        "\n",
        "  def calculate_salary(self):\n",
        "    return f'{self.symbol}{self.total_salary:,.0f}'\n",
        "\n",
        "  def calculate_bonus(self):\n",
        "    return f'{self.symbol}{self.bonus:,.0f}'"
      ],
      "metadata": {
        "id": "5pZUi694CXNo"
      },
      "execution_count": null,
      "outputs": []
    },
    {
      "cell_type": "code",
      "source": [
        "salary = MySalary(100000)\n",
        "salary.base_salary"
      ],
      "metadata": {
        "id": "f4j5PRIvsUAu"
      },
      "execution_count": null,
      "outputs": []
    }
  ]
}