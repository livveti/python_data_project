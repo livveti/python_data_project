{
 "cells": [
  {
   "cell_type": "code",
   "execution_count": 1,
   "metadata": {
    "colab": {
     "base_uri": "https://localhost:8080/",
     "height": 349
    },
    "id": "iM8LlNemK8a7",
    "outputId": "a11d77e7-5ce4-4b81-e1b0-0cbb1e1f2ebe"
   },
   "outputs": [
    {
     "ename": "ModuleNotFoundError",
     "evalue": "No module named 'salary_calculator'",
     "output_type": "error",
     "traceback": [
      "\u001b[1;31m---------------------------------------------------------------------------\u001b[0m",
      "\u001b[1;31mModuleNotFoundError\u001b[0m                       Traceback (most recent call last)",
      "Cell \u001b[1;32mIn[1], line 1\u001b[0m\n\u001b[1;32m----> 1\u001b[0m \u001b[38;5;28;01mfrom\u001b[39;00m \u001b[38;5;21;01msalary_calculator\u001b[39;00m \u001b[38;5;28;01mimport\u001b[39;00m calculate_annual_salary\n\u001b[0;32m      3\u001b[0m calculate_annual_salary(\u001b[38;5;241m50\u001b[39m, \u001b[38;5;241m40\u001b[39m)\n",
      "\u001b[1;31mModuleNotFoundError\u001b[0m: No module named 'salary_calculator'"
     ]
    }
   ],
   "source": [
    "from salary_calculator import calculate_annual_salary\n",
    "\n",
    "calculate_annual_salary(50, 40)"
   ]
  },
  {
   "cell_type": "code",
   "execution_count": null,
   "metadata": {
    "colab": {
     "base_uri": "https://localhost:8080/",
     "height": 349
    },
    "id": "5E3gcGwWQN87",
    "outputId": "94e21c9b-970f-4e42-ec34-da63e065e839"
   },
   "outputs": [
    {
     "ename": "ModuleNotFoundError",
     "evalue": "No module named 'salary_calculator'",
     "output_type": "error",
     "traceback": [
      "\u001b[0;31m---------------------------------------------------------------------------\u001b[0m",
      "\u001b[0;31mModuleNotFoundError\u001b[0m                       Traceback (most recent call last)",
      "\u001b[0;32m<ipython-input-2-f3eca4f10cce>\u001b[0m in \u001b[0;36m<cell line: 1>\u001b[0;34m()\u001b[0m\n\u001b[0;32m----> 1\u001b[0;31m \u001b[0;32mfrom\u001b[0m \u001b[0msalary_calculator\u001b[0m \u001b[0;32mimport\u001b[0m \u001b[0mcalculate_annual_salary\u001b[0m\u001b[0;34m\u001b[0m\u001b[0;34m\u001b[0m\u001b[0m\n\u001b[0m\u001b[1;32m      2\u001b[0m \u001b[0;34m\u001b[0m\u001b[0m\n\u001b[1;32m      3\u001b[0m \u001b[0mcalculate_annual_salary\u001b[0m\u001b[0;34m(\u001b[0m\u001b[0;36m40\u001b[0m\u001b[0;34m,\u001b[0m \u001b[0;36m20\u001b[0m\u001b[0;34m)\u001b[0m\u001b[0;34m\u001b[0m\u001b[0;34m\u001b[0m\u001b[0m\n",
      "\u001b[0;31mModuleNotFoundError\u001b[0m: No module named 'salary_calculator'",
      "",
      "\u001b[0;31m---------------------------------------------------------------------------\u001b[0;32m\nNOTE: If your import is failing due to a missing package, you can\nmanually install dependencies using either !pip or !apt.\n\nTo view examples of installing some common dependencies, click the\n\"Open Examples\" button below.\n\u001b[0;31m---------------------------------------------------------------------------\u001b[0m\n"
     ]
    }
   ],
   "source": [
    "from salary_calculator import calculate_annual_salary\n",
    "\n",
    "calculate_annual_salary(40, 20)"
   ]
  },
  {
   "cell_type": "code",
   "execution_count": null,
   "metadata": {
    "id": "qkg_GFYGx0w0"
   },
   "outputs": [],
   "source": [
    "%%writefile job_filter.py"
   ]
  },
  {
   "cell_type": "code",
   "execution_count": null,
   "metadata": {
    "id": "10Xer3BHx9lH"
   },
   "outputs": [],
   "source": [
    "from job_filter import filter_by_location\n",
    "\n",
    "filter_by_location(job_postings, 'New York')"
   ]
  },
  {
   "cell_type": "code",
   "execution_count": null,
   "metadata": {
    "id": "Kk1SlxzKy0nB"
   },
   "outputs": [],
   "source": [
    "%%writefile product_filter.py"
   ]
  },
  {
   "cell_type": "code",
   "execution_count": null,
   "metadata": {
    "id": "SKidAWlo0TqS"
   },
   "outputs": [],
   "source": [
    "product_info = [\n",
    "    {'name': 'Laptop', 'category': 'Electronics', 'price': 1200},\n",
    "    {'name': 'Shampoo', 'category': 'Personal Care', 'price': 8},\n",
    "    {'name': 'Smartphone', 'category': 'Electronics', 'price': 700},\n",
    "    {'name': 'Conditioner', 'category': 'Personal Care', 'price': 6},\n",
    "    {'name': 'Blender', 'category': 'Home Appliances', 'price': 45}\n",
    "]"
   ]
  },
  {
   "cell_type": "code",
   "execution_count": null,
   "metadata": {
    "id": "SmV1zpvW0esD"
   },
   "outputs": [],
   "source": [
    "import product_filter\n",
    "\n",
    "filter_products = product_filter.filter_by_category(product_info, 'Electronics')\n",
    "filter_products"
   ]
  },
  {
   "cell_type": "code",
   "execution_count": null,
   "metadata": {
    "id": "PVwqU5IV34cp"
   },
   "outputs": [],
   "source": [
    "book_info = [\n",
    "    {'title': 'To Kill a Mockingbird', 'author': 'Harper Lee', 'year': 1960},\n",
    "    {'title': '1984', 'author': 'George Orwell', 'year': 1949},\n",
    "    {'title': 'Pride and Prejudice', 'author': 'Jane Austen', 'year': 1813},\n",
    "    {'title': 'Animal Farm', 'author': 'George Orwell', 'year': 1945}\n",
    "]"
   ]
  },
  {
   "cell_type": "code",
   "execution_count": null,
   "metadata": {
    "id": "4zmeKlvv9eyc"
   },
   "outputs": [],
   "source": [
    "%%writefile book_filter.py"
   ]
  },
  {
   "cell_type": "code",
   "execution_count": null,
   "metadata": {
    "colab": {
     "base_uri": "https://localhost:8080/"
    },
    "id": "DYDycChT9k-I",
    "outputId": "39ba3f8a-c045-4509-adf4-40e728372984"
   },
   "outputs": [
    {
     "data": {
      "text/plain": [
       "[{'title': 'Pride and Prejudice', 'author': 'Jane Austen', 'year': 1813}]"
      ]
     },
     "execution_count": 15,
     "metadata": {},
     "output_type": "execute_result"
    }
   ],
   "source": [
    "import book_filter\n",
    "\n",
    "book_filter.filter_by_author(book_info, 'Jane Austen')\n"
   ]
  },
  {
   "cell_type": "code",
   "execution_count": null,
   "metadata": {
    "id": "c3aGyeR7-O2p"
   },
   "outputs": [],
   "source": []
  }
 ],
 "metadata": {
  "colab": {
   "provenance": []
  },
  "kernelspec": {
   "display_name": "python_course",
   "language": "python",
   "name": "python3"
  },
  "language_info": {
   "codemirror_mode": {
    "name": "ipython",
    "version": 3
   },
   "file_extension": ".py",
   "mimetype": "text/x-python",
   "name": "python",
   "nbconvert_exporter": "python",
   "pygments_lexer": "ipython3",
   "version": "3.11.10"
  }
 },
 "nbformat": 4,
 "nbformat_minor": 0
}
