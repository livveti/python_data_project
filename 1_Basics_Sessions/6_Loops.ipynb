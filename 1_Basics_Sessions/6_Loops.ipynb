{
  "nbformat": 4,
  "nbformat_minor": 0,
  "metadata": {
    "colab": {
      "provenance": []
    },
    "kernelspec": {
      "name": "python3",
      "display_name": "Python 3"
    },
    "language_info": {
      "name": "python"
    }
  },
  "cells": [
    {
      "cell_type": "code",
      "execution_count": null,
      "metadata": {
        "colab": {
          "base_uri": "https://localhost:8080/"
        },
        "id": "ckb_x92NsUA3",
        "outputId": "24a94f26-650c-4bb2-b15d-fdd4f47b9167"
      },
      "outputs": [
        {
          "output_type": "stream",
          "name": "stdout",
          "text": [
            "Data Scientist\n",
            "Data Analyst\n",
            "Machine Learning Engineer\n"
          ]
        }
      ],
      "source": [
        "job_titles = ['Data Scientist', 'Data Analyst', 'Machine Learning Engineer']\n",
        "for titles in job_titles:\n",
        "  print(titles)"
      ]
    },
    {
      "cell_type": "code",
      "source": [
        "job_postings = [5, 10, 15, 20, 25]\n",
        "index = 0\n",
        "postings = 0\n",
        "\n",
        "while index < len(job_postings):\n",
        "  postings += job_postings[index]\n",
        "  index += 1\n",
        "print(postings)\n"
      ],
      "metadata": {
        "colab": {
          "base_uri": "https://localhost:8080/"
        },
        "id": "HaA6FtctDm-x",
        "outputId": "11480c49-bb2e-4255-8ea5-9948453a1a8e"
      },
      "execution_count": null,
      "outputs": [
        {
          "output_type": "stream",
          "name": "stdout",
          "text": [
            "75\n"
          ]
        }
      ]
    },
    {
      "cell_type": "code",
      "source": [
        "job_titles = ['Data Scientist', 'Data Analyst', 'Machine Learning Engineer']\n",
        "for index, titles in enumerate(job_titles):\n",
        "  print(index, titles)"
      ],
      "metadata": {
        "colab": {
          "base_uri": "https://localhost:8080/"
        },
        "id": "_PMxjcoTEyob",
        "outputId": "82fc6674-e737-45a0-8f2c-e2df5e890801"
      },
      "execution_count": null,
      "outputs": [
        {
          "output_type": "stream",
          "name": "stdout",
          "text": [
            "0 Data Scientist\n",
            "1 Data Analyst\n",
            "2 Machine Learning Engineer\n"
          ]
        }
      ]
    },
    {
      "cell_type": "code",
      "source": [
        "job_titles = ['Data Scientist', 'Data Analyst', 'Machine Learning Engineer', 'Software Engineer']\n",
        "index = 0\n",
        "\n",
        "while index < len(job_titles):\n",
        "  index += 1\n",
        "  if 'Engineer' in job_titles[index]:\n",
        "    print(job_titles[index])\n",
        "    break"
      ],
      "metadata": {
        "colab": {
          "base_uri": "https://localhost:8080/"
        },
        "id": "xwo3ynB7JH9n",
        "outputId": "8dd39c7d-5e16-4684-a545-91c6a7e1cc71"
      },
      "execution_count": null,
      "outputs": [
        {
          "output_type": "stream",
          "name": "stdout",
          "text": [
            "Machine Learning Engineer\n"
          ]
        }
      ]
    },
    {
      "cell_type": "code",
      "source": [
        "foods = ['apple', 'banana', 'blueberry', 'carrot', 'strawberry', 'orange']\n",
        "index = 0\n",
        "\n",
        "while index < len(foods):\n",
        "  if 'berry' in foods[index]:\n",
        "    print(foods[index])\n",
        "    break\n",
        "  index += 1"
      ],
      "metadata": {
        "colab": {
          "base_uri": "https://localhost:8080/"
        },
        "id": "vRlkLhzJOSOx",
        "outputId": "13b6276f-a051-45e1-962c-3c3aa86afa1f"
      },
      "execution_count": null,
      "outputs": [
        {
          "output_type": "stream",
          "name": "stdout",
          "text": [
            "blueberry\n"
          ]
        }
      ]
    },
    {
      "cell_type": "code",
      "source": [
        "foods = ['apple', 'banana', 'blueberry', 'carrot', 'strawberry', 'orange']\n",
        "index = 0\n",
        "\n",
        "for food in foods:\n",
        "  if 'berry' in foods[index]:\n",
        "    print (foods[index])\n",
        "    break\n",
        "  index += 1"
      ],
      "metadata": {
        "colab": {
          "base_uri": "https://localhost:8080/"
        },
        "id": "pPvrGoQiQ4aY",
        "outputId": "531158e6-003c-48bd-e9d2-c7bb387819e2"
      },
      "execution_count": null,
      "outputs": [
        {
          "output_type": "stream",
          "name": "stdout",
          "text": [
            "blueberry\n"
          ]
        }
      ]
    },
    {
      "cell_type": "code",
      "source": [
        "positions_skills = {\n",
        "    'Data Scientist': ['Python', 'R'],\n",
        "    'Data Analyst': ['SQL', 'Excel'],\n",
        "    'Machine Learning Engineer': ['Python', 'TensorFlow']\n",
        "}\n",
        "\n",
        "for position, skills in positions_skills.items():\n",
        "  for skill in skills:\n",
        "    print(position, \"has to have the ability of\", skill)"
      ],
      "metadata": {
        "colab": {
          "base_uri": "https://localhost:8080/"
        },
        "id": "aDsb8bJ0SMRq",
        "outputId": "4b61122e-5dbe-46c6-8900-bfd8d742a4a8"
      },
      "execution_count": null,
      "outputs": [
        {
          "output_type": "stream",
          "name": "stdout",
          "text": [
            "Data Scientist has to have the ability of Python\n",
            "Data Scientist has to have the ability of R\n",
            "Data Analyst has to have the ability of SQL\n",
            "Data Analyst has to have the ability of Excel\n",
            "Machine Learning Engineer has to have the ability of Python\n",
            "Machine Learning Engineer has to have the ability of TensorFlow\n"
          ]
        }
      ]
    },
    {
      "cell_type": "code",
      "source": [
        "fruits = ['apple', 'banana', 'cherry', 'date', 'elderberry']\n",
        "\n",
        "\n",
        "for fruit in fruits:\n",
        "  print(\"Fruit\", index + 1, \":\", fruit)\n",
        "  index += 1"
      ],
      "metadata": {
        "colab": {
          "base_uri": "https://localhost:8080/"
        },
        "id": "h9o3bK8jUJRP",
        "outputId": "d0c7f86a-d238-4dc8-f09b-436e0ce32afe"
      },
      "execution_count": null,
      "outputs": [
        {
          "output_type": "stream",
          "name": "stdout",
          "text": [
            "Fruit 1 : apple\n",
            "Fruit 2 : banana\n",
            "Fruit 3 : cherry\n",
            "Fruit 4 : date\n",
            "Fruit 5 : elderberry\n"
          ]
        }
      ]
    },
    {
      "cell_type": "code",
      "source": [
        "fruits = ['apple', 'banana', 'cherry', 'date', 'elderberry']\n",
        "\n",
        "for fruit in fruits:\n",
        "  print(\"Fruit:\", fruit)"
      ],
      "metadata": {
        "colab": {
          "base_uri": "https://localhost:8080/"
        },
        "id": "iZ9m9dlcX1nU",
        "outputId": "de6b059e-fa42-450b-e591-46c04cf4c41b"
      },
      "execution_count": null,
      "outputs": [
        {
          "output_type": "stream",
          "name": "stdout",
          "text": [
            "Fruit: apple\n",
            "Fruit: banana\n",
            "Fruit: cherry\n",
            "Fruit: date\n",
            "Fruit: elderberry\n"
          ]
        }
      ]
    },
    {
      "cell_type": "code",
      "source": [
        "colors = ['red', 'green', 'blue', 'yellow', 'purple']\n",
        "index = 0\n",
        "color = 0\n",
        "\n",
        "while index < len(colors):\n",
        "  print(\"Color\", index + 1, \":\",  colors[index])\n",
        "  index += 1\n"
      ],
      "metadata": {
        "colab": {
          "base_uri": "https://localhost:8080/"
        },
        "id": "Iu2wjUTeWs-C",
        "outputId": "17f0774f-a0bb-4286-9bd1-b5262cad08d7"
      },
      "execution_count": null,
      "outputs": [
        {
          "output_type": "stream",
          "name": "stdout",
          "text": [
            "Color 1 : red\n",
            "Color 2 : green\n",
            "Color 3 : blue\n",
            "Color 4 : yellow\n",
            "Color 5 : purple\n"
          ]
        }
      ]
    },
    {
      "cell_type": "code",
      "source": [
        "colors = ['red', 'green', 'blue', 'yellow', 'purple']\n",
        "index = 0\n",
        "\n",
        "while index < len(colors):\n",
        "    print(\"Color: \", colors[index])\n",
        "    index += 1\n"
      ],
      "metadata": {
        "colab": {
          "base_uri": "https://localhost:8080/"
        },
        "id": "DEWRk7cZYjfB",
        "outputId": "282d59fa-f756-4e50-f882-eda3eff7ab75"
      },
      "execution_count": null,
      "outputs": [
        {
          "output_type": "stream",
          "name": "stdout",
          "text": [
            "Color:  red\n",
            "Color:  green\n",
            "Color:  blue\n",
            "Color:  yellow\n",
            "Color:  purple\n"
          ]
        }
      ]
    },
    {
      "cell_type": "code",
      "source": [
        "numbers = [1, 3, 5, 7, 9, 11, 13]\n",
        "total_sum = 0\n",
        "\n",
        "for number in numbers:\n",
        "  total_sum += number\n",
        "print(total_sum)\n",
        "\n",
        "\n"
      ],
      "metadata": {
        "colab": {
          "base_uri": "https://localhost:8080/"
        },
        "id": "Emzj7iC_Zf0y",
        "outputId": "2f41366d-d466-40e1-ff2c-66425d15ca4f"
      },
      "execution_count": null,
      "outputs": [
        {
          "output_type": "stream",
          "name": "stdout",
          "text": [
            "49\n"
          ]
        }
      ]
    },
    {
      "cell_type": "code",
      "source": [
        "cities = ['Tokyo', 'Paris', 'New York', 'Berlin', 'Sydney']\n",
        "index = 0\n",
        "\n",
        "while index < len(cities):\n",
        "  print(\"City\", index + 1, \":\", cities[index])\n",
        "  index += 1"
      ],
      "metadata": {
        "colab": {
          "base_uri": "https://localhost:8080/"
        },
        "id": "T9T0NnLMcSPw",
        "outputId": "c04e5b1b-0dd2-4196-ff78-360ba8941cbb"
      },
      "execution_count": null,
      "outputs": [
        {
          "output_type": "stream",
          "name": "stdout",
          "text": [
            "City 1 : Tokyo\n",
            "City 2 : Paris\n",
            "City 3 : New York\n",
            "City 4 : Berlin\n",
            "City 5 : Sydney\n"
          ]
        }
      ]
    },
    {
      "cell_type": "code",
      "source": [
        "fruit_inventory = {\n",
        "    'apple': 3,\n",
        "    'banana': 6,\n",
        "    'orange': 2,\n",
        "    'grape': 8,\n",
        "    'kiwi': 5\n",
        "}\n",
        "\n",
        "for fruit, qty in fruit_inventory.items():\n",
        "    print(\"There are\", qty, fruit + \"s\")"
      ],
      "metadata": {
        "colab": {
          "base_uri": "https://localhost:8080/"
        },
        "id": "FrU0vnTdeC-A",
        "outputId": "a55086e3-871e-41a1-f6c3-d1d161deb5b7"
      },
      "execution_count": null,
      "outputs": [
        {
          "output_type": "stream",
          "name": "stdout",
          "text": [
            "There are 3 apples\n",
            "There are 6 bananas\n",
            "There are 2 oranges\n",
            "There are 8 grapes\n",
            "There are 5 kiwis\n"
          ]
        }
      ]
    },
    {
      "cell_type": "code",
      "source": [
        "numbers = [4, 9, 16, 25, 36, 49, 64, 81, 100]\n",
        "even_numbers = []\n",
        "\n",
        "for number in numbers:\n",
        "  if number % 2 == 0:\n",
        "    even_numbers.append(number)\n",
        "print(even_numbers)\n"
      ],
      "metadata": {
        "colab": {
          "base_uri": "https://localhost:8080/"
        },
        "id": "q0giF9IWhtiq",
        "outputId": "bc8fd8d6-f116-4b0d-fee7-17b87b6a238c"
      },
      "execution_count": null,
      "outputs": [
        {
          "output_type": "stream",
          "name": "stdout",
          "text": [
            "[4, 16, 36, 64, 100]\n"
          ]
        }
      ]
    },
    {
      "cell_type": "code",
      "source": [
        "scores = [55, 72, 89, 33, 66, 41, 90, 58]\n",
        "\n",
        "for score in scores:\n",
        "  if score >= 60:\n",
        "    print(score)"
      ],
      "metadata": {
        "colab": {
          "base_uri": "https://localhost:8080/"
        },
        "id": "k0gkcZF1nLFP",
        "outputId": "1c8e845c-56ee-431a-80fd-71426dca5f3c"
      },
      "execution_count": null,
      "outputs": [
        {
          "output_type": "stream",
          "name": "stdout",
          "text": [
            "72\n",
            "89\n",
            "66\n",
            "90\n"
          ]
        }
      ]
    },
    {
      "cell_type": "code",
      "source": [
        "scores = [55, 72, 89, 33, 66, 41, 90, 58]\n",
        "passed_score = []\n",
        "\n",
        "\n",
        "for score in scores:\n",
        "  if score >= 60:\n",
        "    passed_score.append(score)\n",
        "print(passed_score)"
      ],
      "metadata": {
        "colab": {
          "base_uri": "https://localhost:8080/"
        },
        "id": "TMA1DTYvqd5M",
        "outputId": "ba73a2ce-8361-45ca-a35f-b5ee76ea1e57"
      },
      "execution_count": null,
      "outputs": [
        {
          "output_type": "stream",
          "name": "stdout",
          "text": [
            "[72, 89, 66, 90]\n"
          ]
        }
      ]
    },
    {
      "cell_type": "code",
      "source": [
        "words = [\"apple\", \"pear\", \"banana\", \"kiwi\", \"mango\", \"pineapple\", \"fig\"]\n",
        "\n",
        "for word in words:\n",
        "  if len(word) > 4:\n",
        "    print(word)"
      ],
      "metadata": {
        "id": "0UHQjoJGquK9",
        "colab": {
          "base_uri": "https://localhost:8080/"
        },
        "outputId": "9b99bb8b-03ca-4e43-d25c-68823a2c9414"
      },
      "execution_count": null,
      "outputs": [
        {
          "output_type": "stream",
          "name": "stdout",
          "text": [
            "apple\n",
            "banana\n",
            "mango\n",
            "pineapple\n"
          ]
        }
      ]
    },
    {
      "cell_type": "code",
      "source": [
        "words = [\"apple\", \"pear\", \"banana\", \"kiwi\", \"mango\", \"pineapple\", \"fig\"]\n",
        "longer_words = []\n",
        "\n",
        "for word in words:\n",
        "  if len(word) > 4:\n",
        "    longer_words.append(word)\n",
        "print(longer_words)"
      ],
      "metadata": {
        "colab": {
          "base_uri": "https://localhost:8080/"
        },
        "id": "wSRPIBbz9cvl",
        "outputId": "47091461-65e9-4fc8-8c44-7cf9cdf4fda6"
      },
      "execution_count": null,
      "outputs": [
        {
          "output_type": "stream",
          "name": "stdout",
          "text": [
            "['apple', 'banana', 'mango', 'pineapple']\n"
          ]
        }
      ]
    },
    {
      "cell_type": "code",
      "source": [
        "numbers = [10, 15, 20, 25, 30, 35, 40, 45, 50]\n",
        "\n",
        "for number in numbers:\n",
        "  if number % 2 == 1:\n",
        "    print(number)"
      ],
      "metadata": {
        "colab": {
          "base_uri": "https://localhost:8080/"
        },
        "id": "4jPkYsuI99d_",
        "outputId": "8e4328e8-c60a-4ace-e8d5-649cfcf0f204"
      },
      "execution_count": null,
      "outputs": [
        {
          "output_type": "stream",
          "name": "stdout",
          "text": [
            "15\n",
            "25\n",
            "35\n",
            "45\n"
          ]
        }
      ]
    },
    {
      "cell_type": "code",
      "source": [
        "numbers = [10, 15, 20, 25, 30, 35, 40, 45, 50]\n",
        "odd_numbers = []\n",
        "\n",
        "for number in numbers:\n",
        "  if number % 2 == 1:\n",
        "    odd_numbers.append(number)\n",
        "print(odd_numbers)\n"
      ],
      "metadata": {
        "colab": {
          "base_uri": "https://localhost:8080/"
        },
        "id": "YjLM02IGBXiD",
        "outputId": "05d9c0e8-9917-40e3-9cfa-724de8470c72"
      },
      "execution_count": null,
      "outputs": [
        {
          "output_type": "stream",
          "name": "stdout",
          "text": [
            "[15, 25, 35, 45]\n"
          ]
        }
      ]
    },
    {
      "cell_type": "code",
      "source": [],
      "metadata": {
        "id": "uITRimdJBsDI"
      },
      "execution_count": null,
      "outputs": []
    }
  ]
}